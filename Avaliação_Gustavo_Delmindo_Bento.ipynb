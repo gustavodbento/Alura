{
  "nbformat": 4,
  "nbformat_minor": 0,
  "metadata": {
    "colab": {
      "provenance": [],
      "authorship_tag": "ABX9TyNt20/1KLPr2mUbpm7Qg6pf",
      "include_colab_link": true
    },
    "kernelspec": {
      "name": "python3",
      "display_name": "Python 3"
    },
    "language_info": {
      "name": "python"
    }
  },
  "cells": [
    {
      "cell_type": "markdown",
      "metadata": {
        "id": "view-in-github",
        "colab_type": "text"
      },
      "source": [
        "<a href=\"https://colab.research.google.com/github/gustavodbento/Alura/blob/main/Avalia%C3%A7%C3%A3o_Gustavo_Delmindo_Bento.ipynb\" target=\"_parent\"><img src=\"https://colab.research.google.com/assets/colab-badge.svg\" alt=\"Open In Colab\"/></a>"
      ]
    },
    {
      "cell_type": "markdown",
      "source": [
        "1 - Uma Cia de pulverização utilizar avião para pulverizar lavouras. Os custos de pulverização dependem do tipo de praga e da área a ser contratada conforme a tabela:\n",
        "\n",
        "Tipo 1 - ervas daninhas R$ 50,00 por acre;\n",
        "\n",
        "tipo 2 - gafanhotos R$ 100,00 por acre;\n",
        "\n",
        "tipo 3 - broca R$ 150,00 por acre;\n",
        "\n",
        "tipo 4 - todos acima R$ 250,00 por acre.\n",
        "\n",
        "Se a área a ser pulverizada for superior a 1000 acres, o fazendeiro tem um desconto de 5%. Em adição, qualquer fazendeiro cujo custo for maior do que R$ 750,00 tem um desconto de 10% sobre o valor que ultrapassar os R$750,00. Caso ambos os descontos se aplicam o da área é calculado antes. Fazer um algoritmo que leia: o tipo de pulverização (1 a 4) e área aser pulverização; e imprima o valor ser pago."
      ],
      "metadata": {
        "id": "05r4OLFAebQU"
      }
    },
    {
      "cell_type": "code",
      "source": [
        "tipo = input(\"Escolha qual pulverização:(1,2,3,4):\")\n",
        "acre = float(input(\"Quantos acre vai ser pulverizada: \"))\n",
        "ervas = 50\n",
        "gafanhotos = 100\n",
        "broca = 150\n",
        "todos = 250\n",
        "if tipo == \"1\":\n",
        "  val = ervas * acre\n",
        "  if acre > 1000:\n",
        "    desconto1 = val * 5/100\n",
        "    if desconto1 > 750:\n",
        "      d1 = desconto1 - 750\n",
        "      desconto1 = d1 * 10/100\n",
        "  else:\n",
        "    val = ervas * acre\n",
        "\n",
        "elif tipo == \"2\":\n",
        "  val = gafanhotos * acre\n",
        "  if acre > 1000:\n",
        "    desconto2 = val * 5/100\n",
        "    if desconto2 > 750:\n",
        "      d2 = desconto2 - 750\n",
        "      desconto2 = d2 * 10/100\n",
        "  else:\n",
        "     val = gafanhotos * acre\n",
        "\n",
        "elif tipo == \"3\":\n",
        "  val = broca * acre\n",
        "  if acre > 1000:\n",
        "    desconto3 = val * 5/100\n",
        "    if desconto3 > 750:\n",
        "      d3 = desconto3 - 750\n",
        "      desconto3 = d3 * 10/100\n",
        "  else:\n",
        "    val3 = broca * acre\n",
        "\n",
        "elif tipo == \"4\":\n",
        "  val = todos * acre\n",
        "  if acre > 1000:\n",
        "    desconto4 = val * 5/100\n",
        "    if desconto4 > 750:\n",
        "      d4 = desconto4 - 750\n",
        "      desconto4 = d4 * 10/100\n",
        "  else:\n",
        "    val = todos * acre\n",
        "else:\n",
        "  print(\"Não esta disponivel essa opção\")\n",
        "\n",
        "\n",
        "print(f\"A opção escolhida foi {tipo} e o tamanho é {acre} acre e o valor a pagar {val} \")\n",
        "\n",
        "\n"
      ],
      "metadata": {
        "id": "ZfFhA1uWjiYX",
        "colab": {
          "base_uri": "https://localhost:8080/"
        },
        "outputId": "48c3d976-0198-44ef-902e-240b24dbdd70"
      },
      "execution_count": null,
      "outputs": [
        {
          "output_type": "stream",
          "name": "stdout",
          "text": [
            "Escolha qual pulverização:(1,2,3,4):2\n",
            "Quantos acre vai ser pulverizada: 10\n",
            "A opção escolhida foi 2 e o tamanho é 10.0 acre e o valor a pagar 1000.0 \n"
          ]
        }
      ]
    },
    {
      "cell_type": "markdown",
      "source": [
        "O valor aproximado do numero pi pode ser calculado usando-se a serie\n",
        "\n",
        "S = 1 -1/3^3 +1/5^3 + 1/7^3 ...\n",
        "\n",
        "Faça um programa que calcule e imprima o valor de pi usando os N primeiros termosda série (N sendo informando durante a execução do algoritmo)"
      ],
      "metadata": {
        "id": "vVDbQdUt0vVf"
      }
    },
    {
      "cell_type": "code",
      "source": [
        "def pi(n):\n",
        "    if n <= 0:\n",
        "        return False\n",
        "    else:\n",
        "        return True\n",
        "\n",
        "def sum(n,a,p):\n",
        "    if n == 0:\n",
        "        return 0\n",
        "    else:\n",
        "        return (-1) ** a/ ((p + sum(n - 1, a + 1, p + 2) ** 3) * 32) ** (1 / 3)\n",
        "\n",
        "n = int(input(\"Entre com um numero: \"))\n",
        "\n",
        "if pi(n):\n",
        "    a = 2\n",
        "    p = 1\n",
        "\n",
        "    print(f\"O valor do pi é:\", sum(n, a, p))\n",
        "else:\n",
        "    print(\"Erro\")\n"
      ],
      "metadata": {
        "id": "KLMBD9C1_ZGa",
        "colab": {
          "base_uri": "https://localhost:8080/"
        },
        "outputId": "f4bb8099-4543-4d72-82e3-91f34aac8792"
      },
      "execution_count": null,
      "outputs": [
        {
          "output_type": "stream",
          "name": "stdout",
          "text": [
            "Digite o número de termos (N) para calcular pi: 1\n",
            "Valor aproximado de pi com 1 termos: 32.0\n"
          ]
        }
      ]
    },
    {
      "cell_type": "markdown",
      "source": [
        "Escreva em Python,que gere uma stringcomposta pelo ultimo nome, seguindo de virgula e as iniciais dos  demais nomes (em ordem), seguida de ponto. Por exemplo, se a string entrada for \"Gabriel Garcia Marquez\", a string gerada deve ser \"Marquez, G.G\""
      ],
      "metadata": {
        "id": "jfqQrAnlIp0z"
      }
    },
    {
      "cell_type": "code",
      "source": [
        "def formatar_nome(nome_completo):\n",
        "    nome = nome_completo.split()\n",
        "    if len(nome) >= 2:\n",
        "        ultimo_nome = nome[-1]\n",
        "        iniciais = ''.join([nome[0].upper() + '.' for nome in nome[:-1]])\n",
        "\n",
        "        resultado = f\"{ultimo_nome}, {iniciais}\"\n",
        "        return resultado.rstrip('.')\n",
        "    return nome_completo\n",
        "nome_completo = input(\"Nome Completo: \")\n",
        "nome_formatado = formatar_nome(nome_completo)\n",
        "print(nome_formatado)\n"
      ],
      "metadata": {
        "colab": {
          "base_uri": "https://localhost:8080/"
        },
        "id": "uWsqBtzANMTe",
        "outputId": "a4eeea1f-489a-4211-c353-2ca32489b02c"
      },
      "execution_count": null,
      "outputs": [
        {
          "output_type": "stream",
          "name": "stdout",
          "text": [
            "Nome Completo: Gustavo Delmindo Bento\n",
            "Bento, G.D\n"
          ]
        }
      ]
    }
  ]
}